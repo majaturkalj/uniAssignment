{
  "nbformat": 4,
  "nbformat_minor": 0,
  "metadata": {
    "colab": {
      "provenance": [],
      "authorship_tag": "ABX9TyOCVVzEm6HQpWzxuRiXYjUm",
      "include_colab_link": true
    },
    "kernelspec": {
      "name": "python3",
      "display_name": "Python 3"
    },
    "language_info": {
      "name": "python"
    }
  },
  "cells": [
    {
      "cell_type": "markdown",
      "metadata": {
        "id": "view-in-github",
        "colab_type": "text"
      },
      "source": [
        "<a href=\"https://colab.research.google.com/github/majaturkalj/uniAssignment/blob/main/03_STRINGS_Python_for_GIS.ipynb\" target=\"_parent\"><img src=\"https://colab.research.google.com/assets/colab-badge.svg\" alt=\"Open In Colab\"/></a>"
      ]
    },
    {
      "cell_type": "code",
      "execution_count": null,
      "metadata": {
        "id": "MZkEoCQZHoub"
      },
      "outputs": [],
      "source": [
        "## 03.01 CREATE A STRING\n",
        "################################################################################\n",
        "## STRINGS\n",
        "##  - A string is enclosed in single '', double \"\", or triple \"\"\" quotation marks.\n",
        "##  - A string is a finite sequence of characters. Characters can be letter,\n",
        "##    numbers, symbols, and spaces.\n",
        "##  - A string is immutable, it cannot be altered in place. Once defined, the\n",
        "##    string variable needs to be overwritten in order to alter.\n",
        "##  - A string is iterable, you can cycle through each character in the string\n",
        "##    individually.\n",
        "##\n",
        "##  Reference: https://www.w3schools.com/python/python_strings.asp\n",
        "##\n",
        "################################################################################"
      ]
    },
    {
      "cell_type": "code",
      "source": [
        "## ASSIGN A STRING TO A VARIABLE\n",
        "##  TIP: use double quotation marks as the default when assigning\n",
        "##  strings. Often, with GIS data, you need to filter data using SQL type\n",
        "##  expressions, for example \"CITYNAME = 'Dublin'\"\n",
        "city = \"Dublin\"\n",
        "print(city)\n",
        "\n",
        "sql_exp = \"COUNTY = 'Dublin'\"\n",
        "print(city)\n"
      ],
      "metadata": {
        "colab": {
          "base_uri": "https://localhost:8080/"
        },
        "id": "EwX2fsOuH2v5",
        "outputId": "c1ee1571-fc51-4a81-fef9-5bed7e11b968"
      },
      "execution_count": null,
      "outputs": [
        {
          "output_type": "stream",
          "name": "stdout",
          "text": [
            "Dublin\n",
            "Dublin\n"
          ]
        }
      ]
    },
    {
      "cell_type": "code",
      "source": [
        "\n",
        "## AN EMPTY STRING\n",
        "##  Important to note that empty does not equate to None.\n",
        "none = None\n",
        "empty = \"\"\n",
        "print(none)\n",
        "print(empty)"
      ],
      "metadata": {
        "colab": {
          "base_uri": "https://localhost:8080/"
        },
        "id": "zUZohgjJIGLt",
        "outputId": "c4798e75-fd23-46b4-b87c-93d3449088f6"
      },
      "execution_count": null,
      "outputs": [
        {
          "output_type": "stream",
          "name": "stdout",
          "text": [
            "None\n",
            "\n"
          ]
        }
      ]
    },
    {
      "cell_type": "code",
      "source": [
        "## MULTILINE STRING\n",
        "##  Enclose string with triple single quotes '''string''' or triple double\n",
        "##  quotes \"\"\"string\"\"\"\n",
        "\n",
        "description = '''Dublin is the capital of Ireland situated at the head of\n",
        "Dublin Bay on the Irish Sea. The city is divided north and south by\n",
        "the River Liffey'''\n",
        "print(description)\n",
        "\n",
        "description = \"\"\"Dublin is the capital of Ireland situated at the head of\n",
        "Dublin Bay on the Irish Sea. The city is divided north and south by\n",
        "the River Liffey\"\"\"\n",
        "print(description)"
      ],
      "metadata": {
        "colab": {
          "base_uri": "https://localhost:8080/"
        },
        "id": "U8M3dB9GIHt5",
        "outputId": "a6154889-a5bb-4a49-f81c-7874cda586b8"
      },
      "execution_count": null,
      "outputs": [
        {
          "output_type": "stream",
          "name": "stdout",
          "text": [
            "Dublin is the capital of Ireland situated at the head of\n",
            "Dublin Bay on the Irish Sea. The city is divided north and south by\n",
            "the River Liffey\n",
            "Dublin is the capital of Ireland situated at the head of\n",
            "Dublin Bay on the Irish Sea. The city is divided north and south by\n",
            "the River Liffey\n"
          ]
        }
      ]
    },
    {
      "cell_type": "code",
      "source": [
        "## str()\n",
        "\n",
        "city = str(\"Dublin\")\n",
        "longitude = str(-6.2603) # cast a float to a string\n",
        "latitude = str(53) # cast an integer to a string\n",
        "print(city)\n",
        "print(type(longitude))\n",
        "print(type(latitude))"
      ],
      "metadata": {
        "colab": {
          "base_uri": "https://localhost:8080/"
        },
        "id": "nZOjFupOILDU",
        "outputId": "7a2a19b9-6f57-4f87-af72-bfba9ff9aad5"
      },
      "execution_count": null,
      "outputs": [
        {
          "output_type": "stream",
          "name": "stdout",
          "text": [
            "Dublin\n",
            "<class 'str'>\n",
            "<class 'str'>\n"
          ]
        }
      ]
    },
    {
      "cell_type": "code",
      "source": [
        "\n",
        "################################################################################\n",
        "## CREATE A PYTHON SCRIPT\n",
        "## add the following lines of code and run. What happened and why?\n",
        "\n",
        "\"Did this print?\"\n",
        "'or this?'\n",
        "\"\"\"what about this?\"\"\"\n",
        "'''or even this?'''\n",
        "\n",
        "\n",
        "print(\"Did this print?\")\n",
        "print('or this?')\n",
        "print(\"\"\"what about this?\"\"\")\n",
        "print('''or even this?''')\n"
      ],
      "metadata": {
        "colab": {
          "base_uri": "https://localhost:8080/"
        },
        "id": "Kbj4IvcwIO-D",
        "outputId": "52153b91-2b3a-4df8-8d34-8b98f5f09e0d"
      },
      "execution_count": null,
      "outputs": [
        {
          "output_type": "stream",
          "name": "stdout",
          "text": [
            "Did this print?\n",
            "or this?\n",
            "what about this?\n",
            "or even this?\n"
          ]
        }
      ]
    },
    {
      "cell_type": "code",
      "source": [
        "string = \"\"\"I am really wondering\n",
        "how long is this string?\"\"\"\n",
        "lenght_string = len(string)\n",
        "print(lenght_string)"
      ],
      "metadata": {
        "colab": {
          "base_uri": "https://localhost:8080/"
        },
        "id": "hC5cMypWISaF",
        "outputId": "8bcc54d5-735d-48d4-9d06-7d76d43748f4"
      },
      "execution_count": null,
      "outputs": [
        {
          "output_type": "stream",
          "name": "stdout",
          "text": [
            "47\n"
          ]
        }
      ]
    },
    {
      "cell_type": "code",
      "source": [
        "## 03.02 STRING INDEXING AND SLICING\n",
        "################################################################################\n",
        "## STRING SLICING\n",
        "##  Return a specific character of a string or a targeted sliced selection of\n",
        "##  characters.\n",
        "##\n",
        "################################################################################"
      ],
      "metadata": {
        "id": "QHgv8uZxJXXU"
      },
      "execution_count": null,
      "outputs": []
    },
    {
      "cell_type": "code",
      "source": [
        "## select an individual character\n",
        "text = \"Dublin is the capital city of Ireland\"\n",
        "print(text[0])\n",
        "print(text[2])"
      ],
      "metadata": {
        "colab": {
          "base_uri": "https://localhost:8080/"
        },
        "id": "IsM3_iYwMRzB",
        "outputId": "63a91a5d-0d06-4a80-fb35-43c77c0d39db"
      },
      "execution_count": null,
      "outputs": [
        {
          "output_type": "stream",
          "name": "stdout",
          "text": [
            "D\n",
            "b\n"
          ]
        }
      ]
    },
    {
      "cell_type": "code",
      "source": [
        "##  From the end of string (working backwards)\n",
        "text = \"Dublin is the capital city of Ireland\"\n",
        "print(text[-1]) # the last character\n",
        "print(text[-4]) # the 4th last character"
      ],
      "metadata": {
        "colab": {
          "base_uri": "https://localhost:8080/"
        },
        "id": "JOLiLWF7OLk0",
        "outputId": "f061fee3-4052-4c81-fa28-d97a10917ef0"
      },
      "execution_count": null,
      "outputs": [
        {
          "output_type": "stream",
          "name": "stdout",
          "text": [
            "d\n",
            "l\n"
          ]
        }
      ]
    },
    {
      "cell_type": "code",
      "source": [
        "## substrings via slicing, slices to\n",
        "text = \"Dublin is the capital city of Ireland\"\n",
        "print(text[1:4])\n",
        "print(text[0:6])\n",
        "print(text[:])\n",
        "print(text[0:])\n",
        "print(text[:6])"
      ],
      "metadata": {
        "colab": {
          "base_uri": "https://localhost:8080/"
        },
        "id": "yhveRz4bOadP",
        "outputId": "97cdb6af-fc1e-444b-ee41-94712202fce3"
      },
      "execution_count": null,
      "outputs": [
        {
          "output_type": "stream",
          "name": "stdout",
          "text": [
            "ubl\n",
            "Dublin\n",
            "Dublin is the capital city of Ireland\n",
            "Dublin is the capital city of Ireland\n",
            "Dublin\n"
          ]
        }
      ]
    },
    {
      "cell_type": "code",
      "source": [
        "## steeping\n",
        "text = \"Dublin is the capital city of Ireland\"\n",
        "print(text[:6:2])"
      ],
      "metadata": {
        "colab": {
          "base_uri": "https://localhost:8080/"
        },
        "id": "h8sUx5sjRVCa",
        "outputId": "53d1f56b-4b92-4040-c4b2-71817e0967cd"
      },
      "execution_count": null,
      "outputs": [
        {
          "output_type": "stream",
          "name": "stdout",
          "text": [
            "Dbi\n"
          ]
        }
      ]
    },
    {
      "cell_type": "code",
      "source": [
        "text = \"Dublin is the capital city of Ireland\"\n",
        "print(text[::2])"
      ],
      "metadata": {
        "colab": {
          "base_uri": "https://localhost:8080/"
        },
        "id": "VbBvrSrZSMji",
        "outputId": "d52b9fe0-b979-4e2a-faae-85c8d2692f26"
      },
      "execution_count": null,
      "outputs": [
        {
          "output_type": "stream",
          "name": "stdout",
          "text": [
            "Dbi stecptlct fIead\n"
          ]
        }
      ]
    },
    {
      "cell_type": "code",
      "source": [
        "## What happens if you enter an index greater than the length of the string\n",
        "## minus one?\n",
        "text = \"Dublin is the capital city of Ireland\"\n",
        "print(text[100])\n",
        "IndexError: string index out of range"
      ],
      "metadata": {
        "id": "m-fdHWdHTQer"
      },
      "execution_count": null,
      "outputs": []
    },
    {
      "cell_type": "code",
      "source": [
        "## reverse a string using index stepping\n",
        "my_string = \"Dublin is the capital city of Ireland\"\n",
        "reversed_string = my_string[::-1]\n",
        "print(reversed_string)"
      ],
      "metadata": {
        "colab": {
          "base_uri": "https://localhost:8080/"
        },
        "id": "4v2d-afXUf4I",
        "outputId": "4a86d075-bc63-4420-9c9f-29e3f5dae540"
      },
      "execution_count": null,
      "outputs": [
        {
          "output_type": "stream",
          "name": "stdout",
          "text": [
            "dnalerI fo ytic latipac eht si nilbuD\n"
          ]
        }
      ]
    },
    {
      "cell_type": "code",
      "source": [
        "## 03.03 STRING MUTABILITY\n",
        "################################################################################\n",
        "## STRING IMMUTABILITY\n",
        "##  A string is immutable, it cannot be altered in-place. Once defined, the\n",
        "##  string variable needs to be overwritten in order to alter.\n",
        "##\n",
        "################################################################################"
      ],
      "metadata": {
        "id": "rYTZyo8vVze4"
      },
      "execution_count": null,
      "outputs": []
    },
    {
      "cell_type": "code",
      "source": [
        "## notice teh trailing whitespace\n",
        "county = \"Kildare  \"\n",
        "print(county)"
      ],
      "metadata": {
        "colab": {
          "base_uri": "https://localhost:8080/"
        },
        "id": "D76XooEKV_jq",
        "outputId": "14562c39-de00-4f9e-87de-96208b8c9a16"
      },
      "execution_count": null,
      "outputs": [
        {
          "output_type": "stream",
          "name": "stdout",
          "text": [
            "Kildare  \n"
          ]
        }
      ]
    },
    {
      "cell_type": "code",
      "source": [
        "## print with whitespace removed\n",
        "county = \"Kildare  \"\n",
        "print(county.rstrip())\n",
        "print(county)"
      ],
      "metadata": {
        "colab": {
          "base_uri": "https://localhost:8080/"
        },
        "id": "TRkMeQCRXB8H",
        "outputId": "5c470f91-cd9d-4a9f-ae6c-c7b5e9f33d12"
      },
      "execution_count": null,
      "outputs": [
        {
          "output_type": "stream",
          "name": "stdout",
          "text": [
            "Kildare\n",
            "Kildare  \n"
          ]
        }
      ]
    },
    {
      "cell_type": "code",
      "source": [
        "## overwrite county variable\n",
        "county = county.rstrip()\n",
        "print(county)"
      ],
      "metadata": {
        "colab": {
          "base_uri": "https://localhost:8080/"
        },
        "id": "BCCb-ZlPXvAf",
        "outputId": "2ba5d8d3-6e09-4206-be0e-2c30806affcf"
      },
      "execution_count": null,
      "outputs": [
        {
          "output_type": "stream",
          "name": "stdout",
          "text": [
            "Kildare\n"
          ]
        }
      ]
    },
    {
      "cell_type": "code",
      "source": [
        "## 03.04 STRING METHODS\n",
        "################################################################################\n",
        "## STRING METHODS\n",
        "##  A string method is a built-in function (or operation) that can be applied to\n",
        "##  a string object to perform various tasks or manipulate the string's content.\n",
        "##  Below are examples, check an complete your Basic Python Workbook for more.\n",
        "##  String methods are very useful in GIS for cleaning text attributes.\n",
        "##\n",
        "##  Reference: https://www.w3schools.com/python/python_strings_methods.asp\n",
        "##\n",
        "################################################################################"
      ],
      "metadata": {
        "id": "XWE_nFTYYJdB"
      },
      "execution_count": null,
      "outputs": []
    },
    {
      "cell_type": "code",
      "source": [
        "## Title, Captialize, UPPER, lower, and replace\n",
        "text = \"duBliN iS tHe CapitaL citY OF ireLand\"\n",
        "print(text.title())"
      ],
      "metadata": {
        "colab": {
          "base_uri": "https://localhost:8080/"
        },
        "id": "ygFPXtnFYRP4",
        "outputId": "7b1c5b6c-9a17-4b2e-f858-14ad71e8d52f"
      },
      "execution_count": null,
      "outputs": [
        {
          "output_type": "stream",
          "name": "stdout",
          "text": [
            "Dublin Is The Capital City Of Ireland\n"
          ]
        }
      ]
    },
    {
      "cell_type": "code",
      "source": [
        "print(text)"
      ],
      "metadata": {
        "colab": {
          "base_uri": "https://localhost:8080/"
        },
        "id": "3vOjBp5OgEN8",
        "outputId": "4049769a-f722-41ee-aee8-f6dcc507c95b"
      },
      "execution_count": null,
      "outputs": [
        {
          "output_type": "stream",
          "name": "stdout",
          "text": [
            "duBliN iS tHe CapitaL citY OF ireLand\n"
          ]
        }
      ]
    },
    {
      "cell_type": "code",
      "source": [
        "text = \"duBliN iS tHe CapitaL citY OF ireLand\"\n",
        "capitalized_text = text.capitalize()\n",
        "print(capitalized_text)"
      ],
      "metadata": {
        "colab": {
          "base_uri": "https://localhost:8080/"
        },
        "id": "j1F0y59BgOGQ",
        "outputId": "c4c97f58-df69-4925-b1ac-9d6c32bde4ac"
      },
      "execution_count": null,
      "outputs": [
        {
          "output_type": "stream",
          "name": "stdout",
          "text": [
            "Dublin is the capital city of ireland\n"
          ]
        }
      ]
    },
    {
      "cell_type": "code",
      "source": [
        "text = \"duBliN iS tHe CapitaL citY OF ireLand\"\n",
        "upperCase_text = text.upper()\n",
        "print(upperCase_text)"
      ],
      "metadata": {
        "colab": {
          "base_uri": "https://localhost:8080/"
        },
        "id": "Q27K7io0g4bf",
        "outputId": "b29f52f4-2e92-4e91-9dc9-d6a315d55fff"
      },
      "execution_count": null,
      "outputs": [
        {
          "output_type": "stream",
          "name": "stdout",
          "text": [
            "DUBLIN IS THE CAPITAL CITY OF IRELAND\n"
          ]
        }
      ]
    },
    {
      "cell_type": "code",
      "source": [
        "text = \"duBliN iS tHe CapitaL citY OF ireLand\"\n",
        "lowerCase_text = text.lower()\n",
        "print(lowerCase_text)"
      ],
      "metadata": {
        "colab": {
          "base_uri": "https://localhost:8080/"
        },
        "id": "okdS9_mDhdTV",
        "outputId": "1ef3683f-a1f7-460f-daed-9618b08ec14b"
      },
      "execution_count": null,
      "outputs": [
        {
          "output_type": "stream",
          "name": "stdout",
          "text": [
            "dublin is the capital city of ireland\n"
          ]
        }
      ]
    },
    {
      "cell_type": "code",
      "source": [
        "text = \"duBliN iS tHe CapitaL citY OF ireLand\"\n",
        "replaced_text = text.replace(\"duBliN\", \"Dublin\")\n",
        "print(replaced_text)"
      ],
      "metadata": {
        "colab": {
          "base_uri": "https://localhost:8080/"
        },
        "id": "AW5Uclhxi3iB",
        "outputId": "9407407e-a12c-495e-d304-b04bc745d5d6"
      },
      "execution_count": null,
      "outputs": [
        {
          "output_type": "stream",
          "name": "stdout",
          "text": [
            "Dublin iS tHe CapitaL citY OF ireLand\n"
          ]
        }
      ]
    },
    {
      "cell_type": "code",
      "source": [
        "text = \"duBliN iS tHe CapitaL citY OF ireLand\"\n",
        "updated_text = text.upper().replace(\"DUBLIN\", \"CORK\")\n",
        "print(updated_text)"
      ],
      "metadata": {
        "colab": {
          "base_uri": "https://localhost:8080/"
        },
        "id": "ZrvVec84ja-K",
        "outputId": "dde4fb89-da60-4b8e-f6af-d540da8c68a9"
      },
      "execution_count": null,
      "outputs": [
        {
          "output_type": "stream",
          "name": "stdout",
          "text": [
            "CORK IS THE CAPITAL CITY OF IRELAND\n"
          ]
        }
      ]
    },
    {
      "cell_type": "code",
      "source": [
        "## 03.05 STRING FORMATTING\n",
        "################################################################################\n",
        "## STRING FORMATTING\n",
        "##  String formatting in Python is the process of creating a string with\n",
        "##  placeholders that are replaced with values. The purpose of string\n",
        "##  formatting is to enable you to create dynamic and more readable strings\n",
        "##  by inserting variables/values into specific locations within the string.\n",
        "##\n",
        "##  TIP: Recommended to use string formatting over string concatenation (+). It\n",
        "##  is also recommnded to use f-strings (formatted string literals) for Python\n",
        "##  3.6 and later due to their simplicity and readability.\n",
        "##\n",
        "################################################################################"
      ],
      "metadata": {
        "id": "ASpGRr8KlWNH"
      },
      "execution_count": null,
      "outputs": []
    },
    {
      "cell_type": "code",
      "source": [
        "## OUR VARIABLES\n",
        "city = \"Dublin\"\n",
        "country = \"Ireland\"\n",
        "longitude = -6.2603\n",
        "latitude = 53.3498\n",
        "## OLD STYLE - Check out your workbook for more placeholder examples, just know\n",
        "## they exist in older scripts but the new formatting below is recommended. This is outdated\n",
        "text_v1 = \"%s is the capital of Ireland with GPS Coordinates of %.2f, %.2f\" % (city, longitude, latitude)\n",
        "print(text_v1)"
      ],
      "metadata": {
        "colab": {
          "base_uri": "https://localhost:8080/"
        },
        "id": "4YDPaVYwlfdC",
        "outputId": "a1a5ccd5-e887-479d-e632-775482422ea2"
      },
      "execution_count": null,
      "outputs": [
        {
          "output_type": "stream",
          "name": "stdout",
          "text": [
            "Dublin is the capital of Ireland with GPS Coordinates of -6.26, 53.35\n"
          ]
        }
      ]
    },
    {
      "cell_type": "code",
      "source": [
        "## STRING.format()\n",
        "city = \"Dublin\"\n",
        "country = \"Ireland\"\n",
        "longitude = -6.2603\n",
        "latitude = 53.3498\n",
        "## placeholders by order\n",
        "text = \"{} is the capital of Ireland with GPS Coordinates of {}, {}\".format(city, longitude, latitude)\n",
        "print (text)"
      ],
      "metadata": {
        "id": "b8iM3pzco2EG",
        "colab": {
          "base_uri": "https://localhost:8080/"
        },
        "outputId": "f6c22048-7d59-4f4d-8185-09f516e0d698"
      },
      "execution_count": null,
      "outputs": [
        {
          "output_type": "stream",
          "name": "stdout",
          "text": [
            "Dublin is the capital of Ireland with GPS Coordinates of -6.2603, 53.3498\n"
          ]
        }
      ]
    },
    {
      "cell_type": "code",
      "source": [
        "## STRING.format()\n",
        "city = \"Dublin\"\n",
        "country = \"Ireland\"\n",
        "longitude = -6.2603\n",
        "latitude = 53.3498\n",
        "## placeholders with positional indices\n",
        "text = \"{0} is the capital of Ireland with GPS Coordinates of {1}, {2}. \\\n",
        "The River Liffey runs through {0}.\".format(city, longitude, latitude)\n",
        "print(text)"
      ],
      "metadata": {
        "colab": {
          "base_uri": "https://localhost:8080/"
        },
        "id": "4m1cbbyl0zsv",
        "outputId": "57fc4020-b8a4-4dc4-b2ee-a0b38e7ff05b"
      },
      "execution_count": null,
      "outputs": [
        {
          "output_type": "stream",
          "name": "stdout",
          "text": [
            "Dublin is the capital of Ireland with GPS Coordinates of -6.2603, 53.3498. The River Liffey runs through Dublin.\n"
          ]
        }
      ]
    },
    {
      "cell_type": "code",
      "source": [
        "## STRING.format()\n",
        "city = \"Dublin\"\n",
        "country = \"Ireland\"\n",
        "longitude = -6.2603\n",
        "latitude = 53.3498\n",
        "## named placeholders\n",
        "text = \"{city} is the capital of Ireland with GPS Coordinates of {long}, {lat}. \\\n",
        "The River Liffey runs through {city}.\".format(city=city, long=longitude, lat=latitude)\n",
        "print(text)\n"
      ],
      "metadata": {
        "colab": {
          "base_uri": "https://localhost:8080/"
        },
        "id": "Q30A9g031B84",
        "outputId": "c53e7cac-3b68-4536-b97a-f91cc4a55bec"
      },
      "execution_count": null,
      "outputs": [
        {
          "output_type": "stream",
          "name": "stdout",
          "text": [
            "Dublin is the capital of Ireland with GPS Coordinates of -6.2603, 53.3498. The River Liffey runs through Dublin.\n"
          ]
        }
      ]
    },
    {
      "cell_type": "code",
      "source": [
        "## FORMATTED STRING LITERALS - Python 3.6+\n",
        "city = \"Dublin\"\n",
        "country = \"Ireland\"\n",
        "longitude = -6.2603\n",
        "latitude = 53.3498\n",
        "text = f\"{city} is the capital of Ireland with GPS Coordinates of {longitude}, \\\n",
        "{latitude}. The River Liffey runs through {city}.\"\n",
        "print(text)"
      ],
      "metadata": {
        "colab": {
          "base_uri": "https://localhost:8080/"
        },
        "id": "QLt66bCF1P0F",
        "outputId": "1bff115e-fa49-479f-eb35-fb68146d7738"
      },
      "execution_count": null,
      "outputs": [
        {
          "output_type": "stream",
          "name": "stdout",
          "text": [
            "Dublin is the capital of Ireland with GPS Coordinates of -6.2603, 53.3498. The River Liffey runs through Dublin.\n"
          ]
        }
      ]
    },
    {
      "cell_type": "code",
      "source": [
        "## FORMATTED STRING LITERALS - Python 3.6+\n",
        "city = \"Dublin\"\n",
        "country = \"Ireland\"\n",
        "longitude = -6.2603\n",
        "latitude = 53.3498\n",
        "text = f\"{city} is the capital of Ireland with GPS Coordinates of {longitude:.2f}, \\\n",
        "{latitude:.2f}. The River Liffey runs through {city}.\"\n",
        "print(text)"
      ],
      "metadata": {
        "colab": {
          "base_uri": "https://localhost:8080/"
        },
        "id": "-1h1LDoL49kJ",
        "outputId": "9999f9a7-6edd-4ed9-a860-2f04a9cc3b32"
      },
      "execution_count": null,
      "outputs": [
        {
          "output_type": "stream",
          "name": "stdout",
          "text": [
            "Dublin is the capital of Ireland with GPS Coordinates of -6.26, 53.35. The River Liffey runs through Dublin.\n"
          ]
        }
      ]
    },
    {
      "cell_type": "code",
      "source": [
        "## 03.06 ESCAPE CHARACTERS\n",
        "################################################################################\n",
        "## ESCAPE CHARACTERS\n",
        "##  Escape characters in Python are like secret codes you can use in your string\n",
        "##  to do special things. They allow you to represent characters that cannot\n",
        "##  be easily types or require special handling within a string. All escape\n",
        "##  characters begin with a backslash (\"\\\"). See below for some examples and\n",
        "##  refer to your workbook for more information.\n",
        "##\n",
        "################################################################################"
      ],
      "metadata": {
        "id": "or5-Swpe97yO"
      },
      "execution_count": null,
      "outputs": []
    },
    {
      "cell_type": "code",
      "source": [
        "## THE BACKSLASH\n",
        "print(\"This is a backslash \\\\\")"
      ],
      "metadata": {
        "colab": {
          "base_uri": "https://localhost:8080/"
        },
        "id": "Xm7G8AoZ-de_",
        "outputId": "a8e930c0-554e-43a5-a6b9-76a9b3867bba"
      },
      "execution_count": null,
      "outputs": [
        {
          "output_type": "stream",
          "name": "stdout",
          "text": [
            "This is a backslash \\\n"
          ]
        }
      ]
    },
    {
      "cell_type": "code",
      "source": [
        "## THE SINGLE AND DOUBLE QUOTES\n",
        "print('I am using single quotes around the word \\'Hello\\'')\n",
        "print(\"I am using double quotes around the word \\\"Hello\\\"\")\n",
        "print(\"No need to escape here, 'Hello'\")"
      ],
      "metadata": {
        "colab": {
          "base_uri": "https://localhost:8080/"
        },
        "id": "33ggciwU-iBY",
        "outputId": "1f7f19a9-38cd-4104-bc95-39ba921e2d1b"
      },
      "execution_count": null,
      "outputs": [
        {
          "output_type": "stream",
          "name": "stdout",
          "text": [
            "I am using single quotes around the word 'Hello'\n",
            "I am using double quotes around the word \"Hello\"\n",
            "No need to escape here, 'Hello'\n"
          ]
        }
      ]
    },
    {
      "cell_type": "code",
      "source": [
        "## THE NEWLINE\n",
        "print(\"This is on the first line,\\nbut this is on the second!\")"
      ],
      "metadata": {
        "colab": {
          "base_uri": "https://localhost:8080/"
        },
        "id": "wtnfy-m4-oi0",
        "outputId": "4488476f-bc68-4683-f077-f97f93d5541b"
      },
      "execution_count": null,
      "outputs": [
        {
          "output_type": "stream",
          "name": "stdout",
          "text": [
            "This is on the first line,\n",
            "but this is on the second!\n"
          ]
        }
      ]
    },
    {
      "cell_type": "code",
      "source": [
        "## THE TAB\n",
        "print(\"\\tThis is a tabbed sentence\")"
      ],
      "metadata": {
        "colab": {
          "base_uri": "https://localhost:8080/"
        },
        "id": "DrP9mbXJ-t_K",
        "outputId": "5edd478d-be95-4ead-e0ae-2784da66c5d5"
      },
      "execution_count": null,
      "outputs": [
        {
          "output_type": "stream",
          "name": "stdout",
          "text": [
            "\tThis is a tabbed sentence\n"
          ]
        }
      ]
    },
    {
      "cell_type": "code",
      "source": [
        "## THE SMILEY FACE and GLOBE (with UNICODE)\n",
        "print(\"This course makes me \\U0001F604, I will use it to progress my GIS \\\n",
        "skills \\U0001F30D with Final Draft Mapping.\")"
      ],
      "metadata": {
        "colab": {
          "base_uri": "https://localhost:8080/"
        },
        "id": "KCZFT3yV-x3c",
        "outputId": "247be0fb-956e-4f4c-f764-3341f7db6f87"
      },
      "execution_count": null,
      "outputs": [
        {
          "output_type": "stream",
          "name": "stdout",
          "text": [
            "This course makes me 😄, I will use it to progress my GIS skills 🌍 with Final Draft Mapping.\n"
          ]
        }
      ]
    },
    {
      "cell_type": "code",
      "source": [
        "## 03.07 STRING CONCATENATION AND JOIN\n",
        "################################################################################\n",
        "## STRING CONCATENATION\n",
        "##  String concatenation is the process of combining or joining two or more\n",
        "##  strings to create a new string\n",
        "##\n",
        "################################################################################\n"
      ],
      "metadata": {
        "id": "tMXBHWSVFM8D"
      },
      "execution_count": null,
      "outputs": []
    },
    {
      "cell_type": "code",
      "source": [
        "## Create some variables\n",
        "city = \"Dublin\"\n",
        "country = \"Ireland\"\n",
        "longitude = -6.2603\n",
        "latitude = 53.3498\n",
        "\n",
        "## concatenate text\n",
        "text = city + \" is the capital city of \" + country\n",
        "print(text)"
      ],
      "metadata": {
        "colab": {
          "base_uri": "https://localhost:8080/"
        },
        "id": "w-JoGZHlMVAS",
        "outputId": "97849c4b-3dce-4683-b974-fced31429ac6"
      },
      "execution_count": null,
      "outputs": [
        {
          "output_type": "stream",
          "name": "stdout",
          "text": [
            "Dublin is the capital city of Ireland\n"
          ]
        }
      ]
    },
    {
      "cell_type": "code",
      "source": [
        "## attempt to concatenate text and float, this will error\n",
        "##text = city + \" is the capital city of \" + country + \" - (\" + longitude + \",\" + \\\n",
        "##latitude + \")\"\n",
        "##print(text)"
      ],
      "metadata": {
        "id": "6mLUzrr7P0c_"
      },
      "execution_count": null,
      "outputs": []
    },
    {
      "cell_type": "code",
      "source": [
        "## cast float to string\n",
        "text = city + \" is the capital city of \" + country + \" - (\" + str(longitude) + \",\" + \\\n",
        "str(latitude) + \")\"\n",
        "print(text)"
      ],
      "metadata": {
        "colab": {
          "base_uri": "https://localhost:8080/"
        },
        "id": "SzQmmGRIP17b",
        "outputId": "7a1f74b4-379d-421a-bd69-6de3e4e51d73"
      },
      "execution_count": null,
      "outputs": [
        {
          "output_type": "stream",
          "name": "stdout",
          "text": [
            "Dublin is the capital city of Ireland - (-6.2603,53.3498)\n"
          ]
        }
      ]
    },
    {
      "cell_type": "code",
      "source": [
        "## concatenation shorthand\n",
        "text = \"\"\n",
        "print(text)\n",
        "text += city\n",
        "print(text)"
      ],
      "metadata": {
        "id": "AMSThdtSVxUN",
        "colab": {
          "base_uri": "https://localhost:8080/"
        },
        "outputId": "7bb3c4a0-4ea3-469d-9efe-ec63fb3e8e11"
      },
      "execution_count": null,
      "outputs": [
        {
          "output_type": "stream",
          "name": "stdout",
          "text": [
            "\n",
            "Dublin\n"
          ]
        }
      ]
    },
    {
      "cell_type": "code",
      "source": [
        "text += \" is the capital city of \"\n",
        "print(text)"
      ],
      "metadata": {
        "colab": {
          "base_uri": "https://localhost:8080/"
        },
        "id": "iaONwxjqntgd",
        "outputId": "777c8a59-8521-41b2-b747-673549f98c6c"
      },
      "execution_count": null,
      "outputs": [
        {
          "output_type": "stream",
          "name": "stdout",
          "text": [
            "Dublin is the capital city of \n"
          ]
        }
      ]
    },
    {
      "cell_type": "code",
      "source": [
        "text += country\n",
        "print(text)"
      ],
      "metadata": {
        "colab": {
          "base_uri": "https://localhost:8080/"
        },
        "id": "0ALp8F_3n1Tm",
        "outputId": "10fa3eaf-8aa0-4b19-c49c-9fff70ff9479"
      },
      "execution_count": null,
      "outputs": [
        {
          "output_type": "stream",
          "name": "stdout",
          "text": [
            "Dublin is the capital city of Ireland\n"
          ]
        }
      ]
    },
    {
      "cell_type": "code",
      "source": [
        "################################################################################\n",
        "## string.join() - fantastic for creating SQL type expressions for queries/filters\n",
        "print(\" \".join(country))\n",
        "print(\"-\".join(country))\n",
        "print(\",\".join(country))"
      ],
      "metadata": {
        "colab": {
          "base_uri": "https://localhost:8080/"
        },
        "id": "B0ZePxk_n8DF",
        "outputId": "6c418633-c2b9-4c1b-dd50-8a3537cd13af"
      },
      "execution_count": null,
      "outputs": [
        {
          "output_type": "stream",
          "name": "stdout",
          "text": [
            "I r e l a n d\n",
            "I-r-e-l-a-n-d\n",
            "I,r,e,l,a,n,d\n"
          ]
        }
      ]
    },
    {
      "cell_type": "code",
      "source": [
        "county_list = [\"Kildare\", \"Dublin\", \"Cork\"]\n",
        "##sql_exp = \"counties IN ({0})\".format(\",\".join(county_list))\n",
        "##sql_exp = \"counties IN ('{0}')\".format(\",\".join(county_list))\n",
        "sql_exp = \"counties IN ('{0}')\".format(\"','\".join(county_list))\n",
        "print(sql_exp)"
      ],
      "metadata": {
        "id": "LShz-jalwPAA",
        "outputId": "1862cc8b-5927-4064-d42f-007d53a6b1fa",
        "colab": {
          "base_uri": "https://localhost:8080/"
        }
      },
      "execution_count": null,
      "outputs": [
        {
          "output_type": "stream",
          "name": "stdout",
          "text": [
            "counties IN ('Kildare','Dublin','Cork')\n"
          ]
        }
      ]
    }
  ]
}